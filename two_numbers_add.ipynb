{
 "cells": [
  {
   "cell_type": "code",
   "execution_count": null,
   "metadata": {},
   "outputs": [
    {
     "name": "stdout",
     "output_type": "stream",
     "text": [
      " * Serving Flask app \"__main__\" (lazy loading)\n",
      " * Environment: production\n",
      "   WARNING: Do not use the development server in a production environment.\n",
      "   Use a production WSGI server instead.\n",
      " * Debug mode: off\n"
     ]
    },
    {
     "name": "stderr",
     "output_type": "stream",
     "text": [
      " * Running on http://0.0.0.0:3000/ (Press CTRL+C to quit)\n",
      "127.0.0.1 - - [15/Sep/2019 13:38:19] \"\u001b[37mGET / HTTP/1.1\u001b[0m\" 200 -\n",
      "127.0.0.1 - - [15/Sep/2019 13:38:19] \"\u001b[37mGET /swaggerui/swagger-ui.css HTTP/1.1\u001b[0m\" 200 -\n",
      "127.0.0.1 - - [15/Sep/2019 13:38:19] \"\u001b[37mGET /swaggerui/swagger-ui-bundle.js HTTP/1.1\u001b[0m\" 200 -\n",
      "127.0.0.1 - - [15/Sep/2019 13:38:19] \"\u001b[37mGET /swaggerui/droid-sans.css HTTP/1.1\u001b[0m\" 200 -\n",
      "127.0.0.1 - - [15/Sep/2019 13:38:19] \"\u001b[37mGET /swaggerui/swagger-ui-standalone-preset.js HTTP/1.1\u001b[0m\" 200 -\n",
      "127.0.0.1 - - [15/Sep/2019 13:38:19] \"\u001b[37mGET /swagger.json HTTP/1.1\u001b[0m\" 200 -\n",
      "127.0.0.1 - - [15/Sep/2019 13:38:19] \"\u001b[37mGET /swaggerui/favicon-32x32.png HTTP/1.1\u001b[0m\" 200 -\n",
      "127.0.0.1 - - [15/Sep/2019 13:38:19] \"\u001b[37mGET /swaggerui/favicon-16x16.png HTTP/1.1\u001b[0m\" 200 -\n",
      "127.0.0.1 - - [15/Sep/2019 13:38:43] \"\u001b[37mGET /MuseFind_api/addition?n=2&m=2 HTTP/1.1\u001b[0m\" 200 -\n"
     ]
    },
    {
     "name": "stdout",
     "output_type": "stream",
     "text": [
      "4\n"
     ]
    }
   ],
   "source": [
    "from flask_restplus import Api, Resource, fields\n",
    "from flask import Flask, jsonify, request, make_response, abort, render_template, redirect, url_for\n",
    "\n",
    "app = Flask(__name__)\n",
    "api = Api(app, version='1.0', title='MuseFind Tagging API', description='Automated Tagging By NLP')\n",
    "ns = api.namespace('MuseFind_api', description='Methods')\n",
    "single_parser = api.parser()\n",
    "single_parser.add_argument('n', type=int, required=True, help= 'first number')\n",
    "single_parser.add_argument('m', type=int, required=True, help= 'second number')\n",
    "\n",
    "\n",
    "def summation(a, b):\n",
    "    return a+b\n",
    "\n",
    "\n",
    "@ns.route('/addition')\n",
    "class Addition(Resource):\n",
    "    \"\"\"Uploads your data to the recommender system\"\"\"\n",
    "    @api.doc(parser=single_parser, description='Enter Two Integers')\n",
    "    def get(self):\n",
    "        \"\"\"Uploads a new transaction to Rex (Click to see more)\"\"\"\n",
    "        args = single_parser.parse_args()\n",
    "        n1 = args.n\n",
    "        m1 = args.m\n",
    "        r = summation(n1, m1)\n",
    "        print(r)\n",
    "        return {'add': r}\n",
    "\n",
    "\n",
    "if __name__ == '__main__':\n",
    "    app.run(host='0.0.0.0', port=3000)"
   ]
  },
  {
   "cell_type": "code",
   "execution_count": null,
   "metadata": {},
   "outputs": [],
   "source": []
  },
  {
   "cell_type": "code",
   "execution_count": null,
   "metadata": {},
   "outputs": [],
   "source": []
  },
  {
   "cell_type": "code",
   "execution_count": null,
   "metadata": {},
   "outputs": [],
   "source": []
  }
 ],
 "metadata": {
  "kernelspec": {
   "display_name": "Python 3",
   "language": "python",
   "name": "python3"
  },
  "language_info": {
   "codemirror_mode": {
    "name": "ipython",
    "version": 3
   },
   "file_extension": ".py",
   "mimetype": "text/x-python",
   "name": "python",
   "nbconvert_exporter": "python",
   "pygments_lexer": "ipython3",
   "version": "3.7.1"
  }
 },
 "nbformat": 4,
 "nbformat_minor": 2
}
