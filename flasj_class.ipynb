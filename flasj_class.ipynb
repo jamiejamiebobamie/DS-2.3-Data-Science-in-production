{
 "cells": [
  {
   "cell_type": "code",
   "execution_count": null,
   "metadata": {},
   "outputs": [
    {
     "name": "stdout",
     "output_type": "stream",
     "text": [
      " * Serving Flask app \"__main__\" (lazy loading)\n",
      " * Environment: production\n",
      "   WARNING: Do not use the development server in a production environment.\n",
      "   Use a production WSGI server instead.\n",
      " * Debug mode: off\n"
     ]
    },
    {
     "name": "stderr",
     "output_type": "stream",
     "text": [
      " * Running on http://0.0.0.0:5000/ (Press CTRL+C to quit)\n",
      "127.0.0.1 - - [15/Sep/2019 13:36:07] \"\u001b[33mGET / HTTP/1.1\u001b[0m\" 404 -\n",
      "127.0.0.1 - - [15/Sep/2019 13:36:07] \"\u001b[33mGET /favicon.ico HTTP/1.1\u001b[0m\" 404 -\n"
     ]
    }
   ],
   "source": [
    "import math\n",
    "\n",
    "from flask import Flask, render_template, request\n",
    "from wtforms import BooleanField, Form, IntegerField, StringField, validators\n",
    "\n",
    "\n",
    "class Cylinder(Form):\n",
    "    radius = IntegerField(\"Radius\", [])\n",
    "    height = IntegerField(\"Height\", [])\n",
    "\n",
    "\n",
    "app = Flask(__name__)\n",
    "\n",
    "\n",
    "@app.route(\"/form\", methods=[\"GET\", \"POST\"])\n",
    "def get_form():\n",
    "    form = Cylinder(request.form)\n",
    "    if request.method == \"GET\":\n",
    "        return render_template(\"cylinder.html\", form=form)\n",
    "    else:\n",
    "        radius = form.radius.data\n",
    "        height = form.height.data\n",
    "        return str(math.pi * (radius ** 2) * height)\n",
    "\n",
    "\n",
    "app.run(\"0.0.0.0\", port=\"5000\")"
   ]
  },
  {
   "cell_type": "code",
   "execution_count": null,
   "metadata": {},
   "outputs": [],
   "source": []
  }
 ],
 "metadata": {
  "kernelspec": {
   "display_name": "Python 3",
   "language": "python",
   "name": "python3"
  },
  "language_info": {
   "codemirror_mode": {
    "name": "ipython",
    "version": 3
   },
   "file_extension": ".py",
   "mimetype": "text/x-python",
   "name": "python",
   "nbconvert_exporter": "python",
   "pygments_lexer": "ipython3",
   "version": "3.7.1"
  }
 },
 "nbformat": 4,
 "nbformat_minor": 2
}
