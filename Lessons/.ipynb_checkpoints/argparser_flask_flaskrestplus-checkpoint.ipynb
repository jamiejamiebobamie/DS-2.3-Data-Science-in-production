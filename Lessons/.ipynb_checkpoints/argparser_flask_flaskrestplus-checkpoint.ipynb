{
 "cells": [
  {
   "cell_type": "markdown",
   "metadata": {},
   "source": [
    "## Learning Objectives\n",
    "\n",
    "1- What we learn in DS 2.3\n",
    "\n",
    "2- What is argparser\n",
    "\n",
    "3- Implement a easy Python App in Flask and Flask-Restplus"
   ]
  },
  {
   "cell_type": "markdown",
   "metadata": {},
   "source": [
    "## Tagging Influencers on Instagram\n",
    "\n",
    "Lets watch my interview presenation at Make School\n",
    "\n",
    "### Text-based keyword extraction and categorization:\n",
    "\n",
    "Collect the most 12 recent captions for an influencer\n",
    "\n",
    "1- Preprocessing: hashtag, emoji’s, URL and html removal, non-English words removal, English number removal\n",
    "\n",
    "2- Keyword extraction algorithm in NLP including: LDA, TF-IDF, TextRank\n",
    "\n",
    "3- Keyword List = keyword extraction algorithms + top n words + top m hashtags\n",
    "\n",
    "4- Remove non-informative words from Keyword list: People names, city names, adverbs, adjectives, colors, non-informative list including words that are related to time\n",
    "\n",
    "5- Keyword to category mapping: Word2Vec (Glove)\n",
    "\n",
    "### Image-based keyword extraction and categorization:\n",
    "\n",
    "1- Use Google Vision API to get the top 5 (any number is possible) labels per image\n",
    "\n",
    "\n"
   ]
  },
  {
   "cell_type": "markdown",
   "metadata": {},
   "source": [
    "## Integration of tagging API with MuseFind Platform:\n",
    "\n",
    "- The big file, glove.840B.300d.txt, is stored in AWS S3\n",
    "\n",
    "- The tagging algorithm read Glove by Boto and smart_open\n",
    "\n",
    "- The tagging algorithm would be live (the interface is Flask Restful API) on EC2 and is deployed by Docker\n",
    "\n",
    "- The result of tagging algorithm is returned to Platform API in JSON format\n",
    "\n",
    "- The result of tagging algorithm would be saved on Database and managed by Platform API\n",
    "\n",
    "<img src=\"Images/MuseFind.png\" width=\"400\" height=\"400\">\n"
   ]
  },
  {
   "cell_type": "markdown",
   "metadata": {},
   "source": [
    "## Argparser in Python \n",
    "\n",
    "https://www.youtube.com/watch?v=cdblJqEUDNo"
   ]
  },
  {
   "cell_type": "markdown",
   "metadata": {},
   "source": [
    "## Write a Flask App that takes two numbers and return the addition"
   ]
  },
  {
   "cell_type": "code",
   "execution_count": 1,
   "metadata": {},
   "outputs": [
    {
     "ename": "ModuleNotFoundError",
     "evalue": "No module named 'compute'",
     "output_type": "error",
     "traceback": [
      "\u001b[0;31m---------------------------------------------------------------------------\u001b[0m",
      "\u001b[0;31mModuleNotFoundError\u001b[0m                       Traceback (most recent call last)",
      "\u001b[0;32m<ipython-input-1-08f50c6116eb>\u001b[0m in \u001b[0;36m<module>\u001b[0;34m\u001b[0m\n\u001b[1;32m      3\u001b[0m \u001b[0;32mfrom\u001b[0m \u001b[0mflask\u001b[0m \u001b[0;32mimport\u001b[0m \u001b[0mFlask\u001b[0m\u001b[0;34m,\u001b[0m \u001b[0mrender_template\u001b[0m\u001b[0;34m,\u001b[0m \u001b[0mrequest\u001b[0m\u001b[0;34m\u001b[0m\u001b[0;34m\u001b[0m\u001b[0m\n\u001b[1;32m      4\u001b[0m \u001b[0;32mfrom\u001b[0m \u001b[0mwtforms\u001b[0m \u001b[0;32mimport\u001b[0m \u001b[0mForm\u001b[0m\u001b[0;34m,\u001b[0m \u001b[0mFloatField\u001b[0m\u001b[0;34m,\u001b[0m \u001b[0mvalidators\u001b[0m\u001b[0;34m\u001b[0m\u001b[0;34m\u001b[0m\u001b[0m\n\u001b[0;32m----> 5\u001b[0;31m \u001b[0;32mfrom\u001b[0m \u001b[0mcompute\u001b[0m \u001b[0;32mimport\u001b[0m \u001b[0mcompute\u001b[0m\u001b[0;34m\u001b[0m\u001b[0;34m\u001b[0m\u001b[0m\n\u001b[0m\u001b[1;32m      6\u001b[0m \u001b[0;34m\u001b[0m\u001b[0m\n\u001b[1;32m      7\u001b[0m \u001b[0mapp\u001b[0m \u001b[0;34m=\u001b[0m \u001b[0mFlask\u001b[0m\u001b[0;34m(\u001b[0m\u001b[0m__name__\u001b[0m\u001b[0;34m)\u001b[0m\u001b[0;34m\u001b[0m\u001b[0;34m\u001b[0m\u001b[0m\n",
      "\u001b[0;31mModuleNotFoundError\u001b[0m: No module named 'compute'"
     ]
    }
   ],
   "source": [
    "# http://hplgit.github.io/web4sciapps/doc/pub/._part0004_web4sa_flask.html\n",
    "\n",
    "from flask import Flask, render_template, request\n",
    "from wtforms import Form, FloatField, validators\n",
    "# from compute import compute\n",
    "\n",
    "app = Flask(__name__)\n",
    "\n",
    "# Model\n",
    "class InputForm(Form):\n",
    "    r = FloatField(validators=[validators.InputRequired()])\n",
    "\n",
    "# View\n",
    "@app.route('/hw1', methods=['GET', 'POST'])\n",
    "def index():\n",
    "    form = InputForm(request.form)\n",
    "    if request.method == 'POST' and form.validate():\n",
    "        r = form.r.data\n",
    "        s = r\n",
    "#         s = compute(r)\n",
    "        return render_template(\"view_output.html\", form=form, s=s)\n",
    "    else:\n",
    "        return render_template(\"view_input.html\", form=form)\n",
    "\n",
    "if __name__ == '__main__':\n",
    "    app.run(debug=True)\n",
    "    \n",
    "# UI weak with Flask\n",
    "# wtforms == basic UI \n",
    "# handling user input is not user-friendly\n",
    "# flask rest-plus -- handles argparser easily and has cool UI"
   ]
  },
  {
   "cell_type": "code",
   "execution_count": null,
   "metadata": {},
   "outputs": [],
   "source": [
    "## Adding two numbers"
   ]
  },
  {
   "cell_type": "code",
   "execution_count": null,
   "metadata": {},
   "outputs": [],
   "source": [
    "from flask import Flask, request, jsonify\n",
    "app = Flask(__name__)\n",
    "\n",
    "\n",
    "def summation(a, b):\n",
    "    return a + b\n",
    "\n",
    "\n",
    "@app.route('/', methods=['GET'])\n",
    "def my_route():\n",
    "    n = request.args.get('n', type=int)\n",
    "    m = request.args.get('m', type=int)\n",
    "    r = summation(n, m)\n",
    "    print(r)\n",
    "    return jsonify({'add': r})\n",
    "\n",
    "\n",
    "if __name__ == \"__main__\":\n",
    "    app.run(host='0.0.0.0', port=3000)"
   ]
  },
  {
   "cell_type": "code",
   "execution_count": null,
   "metadata": {},
   "outputs": [],
   "source": [
    "curl \"http://0.0.0.0:3000/?n=2&m=3\""
   ]
  },
  {
   "cell_type": "markdown",
   "metadata": {},
   "source": [
    "## Use Flask Restplus"
   ]
  },
  {
   "cell_type": "code",
   "execution_count": 2,
   "metadata": {},
   "outputs": [
    {
     "ename": "ModuleNotFoundError",
     "evalue": "No module named 'flask_restplus'",
     "output_type": "error",
     "traceback": [
      "\u001b[0;31m---------------------------------------------------------------------------\u001b[0m",
      "\u001b[0;31mModuleNotFoundError\u001b[0m                       Traceback (most recent call last)",
      "\u001b[0;32m<ipython-input-2-a386a96cc988>\u001b[0m in \u001b[0;36m<module>\u001b[0;34m\u001b[0m\n\u001b[0;32m----> 1\u001b[0;31m \u001b[0;32mfrom\u001b[0m \u001b[0mflask_restplus\u001b[0m \u001b[0;32mimport\u001b[0m \u001b[0mApi\u001b[0m\u001b[0;34m,\u001b[0m \u001b[0mResource\u001b[0m\u001b[0;34m,\u001b[0m \u001b[0mfields\u001b[0m\u001b[0;34m\u001b[0m\u001b[0;34m\u001b[0m\u001b[0m\n\u001b[0m\u001b[1;32m      2\u001b[0m \u001b[0;32mfrom\u001b[0m \u001b[0mflask\u001b[0m \u001b[0;32mimport\u001b[0m \u001b[0mFlask\u001b[0m\u001b[0;34m,\u001b[0m \u001b[0mjsonify\u001b[0m\u001b[0;34m,\u001b[0m \u001b[0mrequest\u001b[0m\u001b[0;34m,\u001b[0m \u001b[0mmake_response\u001b[0m\u001b[0;34m,\u001b[0m \u001b[0mabort\u001b[0m\u001b[0;34m,\u001b[0m \u001b[0mrender_template\u001b[0m\u001b[0;34m,\u001b[0m \u001b[0mredirect\u001b[0m\u001b[0;34m,\u001b[0m \u001b[0murl_for\u001b[0m\u001b[0;34m\u001b[0m\u001b[0;34m\u001b[0m\u001b[0m\n\u001b[1;32m      3\u001b[0m \u001b[0;34m\u001b[0m\u001b[0m\n\u001b[1;32m      4\u001b[0m \u001b[0mapp\u001b[0m \u001b[0;34m=\u001b[0m \u001b[0mFlask\u001b[0m\u001b[0;34m(\u001b[0m\u001b[0m__name__\u001b[0m\u001b[0;34m)\u001b[0m\u001b[0;34m\u001b[0m\u001b[0;34m\u001b[0m\u001b[0m\n\u001b[1;32m      5\u001b[0m \u001b[0mapi\u001b[0m \u001b[0;34m=\u001b[0m \u001b[0mApi\u001b[0m\u001b[0;34m(\u001b[0m\u001b[0mapp\u001b[0m\u001b[0;34m,\u001b[0m \u001b[0mversion\u001b[0m\u001b[0;34m=\u001b[0m\u001b[0;34m'1.0'\u001b[0m\u001b[0;34m,\u001b[0m \u001b[0mtitle\u001b[0m\u001b[0;34m=\u001b[0m\u001b[0;34m'MuseFind Tagging API'\u001b[0m\u001b[0;34m,\u001b[0m \u001b[0mdescription\u001b[0m\u001b[0;34m=\u001b[0m\u001b[0;34m'Automated Tagging By NLP'\u001b[0m\u001b[0;34m)\u001b[0m\u001b[0;34m\u001b[0m\u001b[0;34m\u001b[0m\u001b[0m\n",
      "\u001b[0;31mModuleNotFoundError\u001b[0m: No module named 'flask_restplus'"
     ]
    }
   ],
   "source": [
    "from flask_restplus import Api, Resource, fields\n",
    "from flask import Flask, jsonify, request, make_response, abort, render_template, redirect, url_for\n",
    "\n",
    "app = Flask(__name__)\n",
    "api = Api(app, version='1.0', title='MuseFind Tagging API', description='Automated Tagging By NLP')\n",
    "ns = api.namespace('MuseFind_api', description='Methods')\n",
    "single_parser = api.parser()\n",
    "single_parser.add_argument('n', type=int, required=True, help= 'first number')\n",
    "single_parser.add_argument('m', type=int, required=True, help= 'second number')\n",
    "\n",
    "\n",
    "def summation(a, b):\n",
    "    return a+b\n",
    "\n",
    "\n",
    "@ns.route('/addition')\n",
    "class Addition(Resource):\n",
    "    \"\"\"Uploads your data to the recommender system\"\"\"\n",
    "    @api.doc(parser=single_parser, description='Enter Two Integers')\n",
    "    def get(self):\n",
    "        \"\"\"Uploads a new transaction to Rex (Click to see more)\"\"\"\n",
    "        args = single_parser.parse_args()\n",
    "        n1 = args.n\n",
    "        m1 = args.m\n",
    "        r = summation(n1, m1)\n",
    "        print(r)\n",
    "        return {'add': r}\n",
    "\n",
    "\n",
    "if __name__ == '__main__':\n",
    "    app.run(host='0.0.0.0', port=3000)"
   ]
  },
  {
   "cell_type": "code",
   "execution_count": null,
   "metadata": {},
   "outputs": [],
   "source": []
  }
 ],
 "metadata": {
  "kernelspec": {
   "display_name": "Python 3",
   "language": "python",
   "name": "python3"
  },
  "language_info": {
   "codemirror_mode": {
    "name": "ipython",
    "version": 3
   },
   "file_extension": ".py",
   "mimetype": "text/x-python",
   "name": "python",
   "nbconvert_exporter": "python",
   "pygments_lexer": "ipython3",
   "version": "3.7.1"
  }
 },
 "nbformat": 4,
 "nbformat_minor": 2
}
